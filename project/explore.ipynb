{
 "cells": [
  {
   "cell_type": "markdown",
   "metadata": {},
   "source": [
    "# Exploring Data"
   ]
  },
  {
   "cell_type": "code",
   "execution_count": 1,
   "metadata": {},
   "outputs": [],
   "source": [
    "import pandas as pd\n",
    "import numpy as np\n"
   ]
  },
  {
   "cell_type": "code",
   "execution_count": 2,
   "metadata": {},
   "outputs": [],
   "source": [
    "df = pd.read_csv(\"data/Immoweb_Data_Clean.csv\")"
   ]
  },
  {
   "cell_type": "code",
   "execution_count": 3,
   "metadata": {},
   "outputs": [
    {
     "data": {
      "text/html": [
       "<div>\n",
       "<style scoped>\n",
       "    .dataframe tbody tr th:only-of-type {\n",
       "        vertical-align: middle;\n",
       "    }\n",
       "\n",
       "    .dataframe tbody tr th {\n",
       "        vertical-align: top;\n",
       "    }\n",
       "\n",
       "    .dataframe thead th {\n",
       "        text-align: right;\n",
       "    }\n",
       "</style>\n",
       "<table border=\"1\" class=\"dataframe\">\n",
       "  <thead>\n",
       "    <tr style=\"text-align: right;\">\n",
       "      <th></th>\n",
       "      <th>locality</th>\n",
       "      <th>type</th>\n",
       "      <th>sub_type</th>\n",
       "      <th>price</th>\n",
       "      <th>type_of_sale</th>\n",
       "      <th>amount_of_rooms</th>\n",
       "      <th>area</th>\n",
       "      <th>has_full_kitchen</th>\n",
       "      <th>is_furnished</th>\n",
       "      <th>has_open_fire</th>\n",
       "      <th>has_terrace</th>\n",
       "      <th>has_garden</th>\n",
       "      <th>garden_area</th>\n",
       "      <th>amount_of_facades</th>\n",
       "      <th>has_pool</th>\n",
       "      <th>building_state</th>\n",
       "      <th>land_area</th>\n",
       "      <th>postcode</th>\n",
       "      <th>region</th>\n",
       "    </tr>\n",
       "  </thead>\n",
       "  <tbody>\n",
       "    <tr>\n",
       "      <th>0</th>\n",
       "      <td>gent</td>\n",
       "      <td>house</td>\n",
       "      <td>mansion</td>\n",
       "      <td>819000</td>\n",
       "      <td>for sale</td>\n",
       "      <td>4.0</td>\n",
       "      <td>310.0</td>\n",
       "      <td>True</td>\n",
       "      <td>False</td>\n",
       "      <td>False</td>\n",
       "      <td>True</td>\n",
       "      <td>False</td>\n",
       "      <td>0</td>\n",
       "      <td>4.0</td>\n",
       "      <td>False</td>\n",
       "      <td>as new</td>\n",
       "      <td>495.0</td>\n",
       "      <td>9000.0</td>\n",
       "      <td>90</td>\n",
       "    </tr>\n",
       "    <tr>\n",
       "      <th>1</th>\n",
       "      <td>knokke-heist</td>\n",
       "      <td>house</td>\n",
       "      <td>exceptional property</td>\n",
       "      <td>5850000</td>\n",
       "      <td>for sale</td>\n",
       "      <td>6.0</td>\n",
       "      <td>305.0</td>\n",
       "      <td>True</td>\n",
       "      <td>False</td>\n",
       "      <td>False</td>\n",
       "      <td>True</td>\n",
       "      <td>False</td>\n",
       "      <td>0</td>\n",
       "      <td>4.0</td>\n",
       "      <td>False</td>\n",
       "      <td>good</td>\n",
       "      <td>1934.0</td>\n",
       "      <td>8300.0</td>\n",
       "      <td>83</td>\n",
       "    </tr>\n",
       "    <tr>\n",
       "      <th>2</th>\n",
       "      <td>schilde</td>\n",
       "      <td>house</td>\n",
       "      <td>villa</td>\n",
       "      <td>4995000</td>\n",
       "      <td>for sale</td>\n",
       "      <td>5.0</td>\n",
       "      <td>625.0</td>\n",
       "      <td>True</td>\n",
       "      <td>False</td>\n",
       "      <td>False</td>\n",
       "      <td>True</td>\n",
       "      <td>False</td>\n",
       "      <td>0</td>\n",
       "      <td>4.0</td>\n",
       "      <td>False</td>\n",
       "      <td>unknown</td>\n",
       "      <td>33015.0</td>\n",
       "      <td>2970.0</td>\n",
       "      <td>30</td>\n",
       "    </tr>\n",
       "    <tr>\n",
       "      <th>3</th>\n",
       "      <td>overijse</td>\n",
       "      <td>house</td>\n",
       "      <td>castle</td>\n",
       "      <td>9500000</td>\n",
       "      <td>for sale</td>\n",
       "      <td>12.0</td>\n",
       "      <td>1100.0</td>\n",
       "      <td>True</td>\n",
       "      <td>False</td>\n",
       "      <td>False</td>\n",
       "      <td>True</td>\n",
       "      <td>False</td>\n",
       "      <td>0</td>\n",
       "      <td>4.0</td>\n",
       "      <td>True</td>\n",
       "      <td>as new</td>\n",
       "      <td>501100.0</td>\n",
       "      <td>3090.0</td>\n",
       "      <td>31</td>\n",
       "    </tr>\n",
       "    <tr>\n",
       "      <th>4</th>\n",
       "      <td>saint-gilles</td>\n",
       "      <td>house</td>\n",
       "      <td>exceptional property</td>\n",
       "      <td>4950000</td>\n",
       "      <td>for sale</td>\n",
       "      <td>6.0</td>\n",
       "      <td>1500.0</td>\n",
       "      <td>True</td>\n",
       "      <td>False</td>\n",
       "      <td>False</td>\n",
       "      <td>True</td>\n",
       "      <td>True</td>\n",
       "      <td>3500</td>\n",
       "      <td>4.0</td>\n",
       "      <td>True</td>\n",
       "      <td>as new</td>\n",
       "      <td>6500.0</td>\n",
       "      <td>1060.0</td>\n",
       "      <td>11</td>\n",
       "    </tr>\n",
       "    <tr>\n",
       "      <th>...</th>\n",
       "      <td>...</td>\n",
       "      <td>...</td>\n",
       "      <td>...</td>\n",
       "      <td>...</td>\n",
       "      <td>...</td>\n",
       "      <td>...</td>\n",
       "      <td>...</td>\n",
       "      <td>...</td>\n",
       "      <td>...</td>\n",
       "      <td>...</td>\n",
       "      <td>...</td>\n",
       "      <td>...</td>\n",
       "      <td>...</td>\n",
       "      <td>...</td>\n",
       "      <td>...</td>\n",
       "      <td>...</td>\n",
       "      <td>...</td>\n",
       "      <td>...</td>\n",
       "      <td>...</td>\n",
       "    </tr>\n",
       "    <tr>\n",
       "      <th>8539</th>\n",
       "      <td>oudergem</td>\n",
       "      <td>apartment</td>\n",
       "      <td>apartment</td>\n",
       "      <td>501500</td>\n",
       "      <td>for sale</td>\n",
       "      <td>2.0</td>\n",
       "      <td>102.0</td>\n",
       "      <td>True</td>\n",
       "      <td>False</td>\n",
       "      <td>False</td>\n",
       "      <td>True</td>\n",
       "      <td>False</td>\n",
       "      <td>0</td>\n",
       "      <td>2.0</td>\n",
       "      <td>False</td>\n",
       "      <td>as new</td>\n",
       "      <td>102.0</td>\n",
       "      <td>1160.0</td>\n",
       "      <td>12</td>\n",
       "    </tr>\n",
       "    <tr>\n",
       "      <th>8540</th>\n",
       "      <td>ninove</td>\n",
       "      <td>house</td>\n",
       "      <td>house</td>\n",
       "      <td>498521</td>\n",
       "      <td>for sale</td>\n",
       "      <td>3.0</td>\n",
       "      <td>176.0</td>\n",
       "      <td>True</td>\n",
       "      <td>False</td>\n",
       "      <td>False</td>\n",
       "      <td>False</td>\n",
       "      <td>False</td>\n",
       "      <td>0</td>\n",
       "      <td>4.0</td>\n",
       "      <td>False</td>\n",
       "      <td>unknown</td>\n",
       "      <td>1096.0</td>\n",
       "      <td>9400.0</td>\n",
       "      <td>94</td>\n",
       "    </tr>\n",
       "    <tr>\n",
       "      <th>8541</th>\n",
       "      <td>antwerpen</td>\n",
       "      <td>house</td>\n",
       "      <td>apartment block</td>\n",
       "      <td>500000</td>\n",
       "      <td>for sale</td>\n",
       "      <td>7.0</td>\n",
       "      <td>280.0</td>\n",
       "      <td>True</td>\n",
       "      <td>False</td>\n",
       "      <td>False</td>\n",
       "      <td>False</td>\n",
       "      <td>False</td>\n",
       "      <td>0</td>\n",
       "      <td>3.0</td>\n",
       "      <td>False</td>\n",
       "      <td>to renovate</td>\n",
       "      <td>357.0</td>\n",
       "      <td>2000.0</td>\n",
       "      <td>20</td>\n",
       "    </tr>\n",
       "    <tr>\n",
       "      <th>8542</th>\n",
       "      <td>brussel</td>\n",
       "      <td>apartment</td>\n",
       "      <td>apartment</td>\n",
       "      <td>499000</td>\n",
       "      <td>for sale</td>\n",
       "      <td>4.0</td>\n",
       "      <td>161.0</td>\n",
       "      <td>True</td>\n",
       "      <td>False</td>\n",
       "      <td>False</td>\n",
       "      <td>False</td>\n",
       "      <td>False</td>\n",
       "      <td>0</td>\n",
       "      <td>4.0</td>\n",
       "      <td>False</td>\n",
       "      <td>as new</td>\n",
       "      <td>161.0</td>\n",
       "      <td>1000.0</td>\n",
       "      <td>10</td>\n",
       "    </tr>\n",
       "    <tr>\n",
       "      <th>8543</th>\n",
       "      <td>seraing</td>\n",
       "      <td>house</td>\n",
       "      <td>house</td>\n",
       "      <td>499000</td>\n",
       "      <td>for sale</td>\n",
       "      <td>4.0</td>\n",
       "      <td>156.0</td>\n",
       "      <td>True</td>\n",
       "      <td>False</td>\n",
       "      <td>False</td>\n",
       "      <td>True</td>\n",
       "      <td>False</td>\n",
       "      <td>0</td>\n",
       "      <td>0.0</td>\n",
       "      <td>False</td>\n",
       "      <td>unknown</td>\n",
       "      <td>556.0</td>\n",
       "      <td>4100.0</td>\n",
       "      <td>41</td>\n",
       "    </tr>\n",
       "  </tbody>\n",
       "</table>\n",
       "<p>8544 rows × 19 columns</p>\n",
       "</div>"
      ],
      "text/plain": [
       "          locality       type              sub_type    price type_of_sale  \\\n",
       "0             gent      house               mansion   819000     for sale   \n",
       "1     knokke-heist      house  exceptional property  5850000     for sale   \n",
       "2          schilde      house                 villa  4995000     for sale   \n",
       "3         overijse      house                castle  9500000     for sale   \n",
       "4     saint-gilles      house  exceptional property  4950000     for sale   \n",
       "...            ...        ...                   ...      ...          ...   \n",
       "8539      oudergem  apartment             apartment   501500     for sale   \n",
       "8540        ninove      house                 house   498521     for sale   \n",
       "8541     antwerpen      house       apartment block   500000     for sale   \n",
       "8542       brussel  apartment             apartment   499000     for sale   \n",
       "8543       seraing      house                 house   499000     for sale   \n",
       "\n",
       "      amount_of_rooms    area  has_full_kitchen  is_furnished  has_open_fire  \\\n",
       "0                 4.0   310.0              True         False          False   \n",
       "1                 6.0   305.0              True         False          False   \n",
       "2                 5.0   625.0              True         False          False   \n",
       "3                12.0  1100.0              True         False          False   \n",
       "4                 6.0  1500.0              True         False          False   \n",
       "...               ...     ...               ...           ...            ...   \n",
       "8539              2.0   102.0              True         False          False   \n",
       "8540              3.0   176.0              True         False          False   \n",
       "8541              7.0   280.0              True         False          False   \n",
       "8542              4.0   161.0              True         False          False   \n",
       "8543              4.0   156.0              True         False          False   \n",
       "\n",
       "      has_terrace  has_garden  garden_area  amount_of_facades  has_pool  \\\n",
       "0            True       False            0                4.0     False   \n",
       "1            True       False            0                4.0     False   \n",
       "2            True       False            0                4.0     False   \n",
       "3            True       False            0                4.0      True   \n",
       "4            True        True         3500                4.0      True   \n",
       "...           ...         ...          ...                ...       ...   \n",
       "8539         True       False            0                2.0     False   \n",
       "8540        False       False            0                4.0     False   \n",
       "8541        False       False            0                3.0     False   \n",
       "8542        False       False            0                4.0     False   \n",
       "8543         True       False            0                0.0     False   \n",
       "\n",
       "     building_state  land_area  postcode  region  \n",
       "0            as new      495.0    9000.0      90  \n",
       "1              good     1934.0    8300.0      83  \n",
       "2           unknown    33015.0    2970.0      30  \n",
       "3            as new   501100.0    3090.0      31  \n",
       "4            as new     6500.0    1060.0      11  \n",
       "...             ...        ...       ...     ...  \n",
       "8539         as new      102.0    1160.0      12  \n",
       "8540        unknown     1096.0    9400.0      94  \n",
       "8541    to renovate      357.0    2000.0      20  \n",
       "8542         as new      161.0    1000.0      10  \n",
       "8543        unknown      556.0    4100.0      41  \n",
       "\n",
       "[8544 rows x 19 columns]"
      ]
     },
     "execution_count": 3,
     "metadata": {},
     "output_type": "execute_result"
    }
   ],
   "source": [
    "#Create \"Regions\"\n",
    "df['region'] = df.apply(lambda x: round(x.postcode/100),axis=1)\n",
    "df"
   ]
  },
  {
   "cell_type": "code",
   "execution_count": 4,
   "metadata": {},
   "outputs": [
    {
     "data": {
      "image/png": "[encoded data removed]",
      "text/plain": [
       "<Figure size 432x288 with 2 Axes>"
      ]
     },
     "metadata": {
      "needs_background": "light"
     },
     "output_type": "display_data"
    },
    {
     "data": {
      "text/plain": [
       "<Figure size 1500x1500 with 0 Axes>"
      ]
     },
     "metadata": {},
     "output_type": "display_data"
    }
   ],
   "source": [
    "import seaborn as sns\n",
    "import matplotlib.pyplot as plt\n",
    "from matplotlib.pyplot import figure\n",
    "\n",
    "\n",
    "cmap = sns.diverging_palette(230, 20, as_cmap=True)\n",
    "\n",
    "sns.heatmap(data=df.corr(), linewidths=0.5, square=True, cmap=cmap, vmax=1, vmin=-1, center=0)\n",
    "\n",
    "plt.yticks(rotation=0)  \n",
    "plt.figure(figsize=(15,15),dpi=100)\n",
    "plt.show()"
   ]
  },
  {
   "cell_type": "code",
   "execution_count": 5,
   "metadata": {},
   "outputs": [
    {
     "data": {
      "text/plain": [
       "['locality',\n",
       " 'type',\n",
       " 'sub_type',\n",
       " 'price',\n",
       " 'type_of_sale',\n",
       " 'amount_of_rooms',\n",
       " 'area',\n",
       " 'has_full_kitchen',\n",
       " 'is_furnished',\n",
       " 'has_open_fire',\n",
       " 'has_terrace',\n",
       " 'has_garden',\n",
       " 'garden_area',\n",
       " 'amount_of_facades',\n",
       " 'has_pool',\n",
       " 'building_state',\n",
       " 'land_area',\n",
       " 'postcode',\n",
       " 'region']"
      ]
     },
     "execution_count": 5,
     "metadata": {},
     "output_type": "execute_result"
    }
   ],
   "source": [
    "df.columns.to_list()"
   ]
  },
  {
   "cell_type": "code",
   "execution_count": 53,
   "metadata": {},
   "outputs": [
    {
     "data": {
      "text/html": [
       "<div>\n",
       "<style scoped>\n",
       "    .dataframe tbody tr th:only-of-type {\n",
       "        vertical-align: middle;\n",
       "    }\n",
       "\n",
       "    .dataframe tbody tr th {\n",
       "        vertical-align: top;\n",
       "    }\n",
       "\n",
       "    .dataframe thead th {\n",
       "        text-align: right;\n",
       "    }\n",
       "</style>\n",
       "<table border=\"1\" class=\"dataframe\">\n",
       "  <thead>\n",
       "    <tr style=\"text-align: right;\">\n",
       "      <th></th>\n",
       "      <th>locality</th>\n",
       "      <th>sub_type</th>\n",
       "      <th>price</th>\n",
       "      <th>type_of_sale</th>\n",
       "      <th>amount_of_rooms</th>\n",
       "      <th>area</th>\n",
       "      <th>has_full_kitchen</th>\n",
       "      <th>is_furnished</th>\n",
       "      <th>has_open_fire</th>\n",
       "      <th>has_terrace</th>\n",
       "      <th>has_garden</th>\n",
       "      <th>garden_area</th>\n",
       "      <th>amount_of_facades</th>\n",
       "      <th>has_pool</th>\n",
       "      <th>building_state</th>\n",
       "      <th>land_area</th>\n",
       "      <th>postcode</th>\n",
       "      <th>region</th>\n",
       "    </tr>\n",
       "    <tr>\n",
       "      <th>type</th>\n",
       "      <th></th>\n",
       "      <th></th>\n",
       "      <th></th>\n",
       "      <th></th>\n",
       "      <th></th>\n",
       "      <th></th>\n",
       "      <th></th>\n",
       "      <th></th>\n",
       "      <th></th>\n",
       "      <th></th>\n",
       "      <th></th>\n",
       "      <th></th>\n",
       "      <th></th>\n",
       "      <th></th>\n",
       "      <th></th>\n",
       "      <th></th>\n",
       "      <th></th>\n",
       "      <th></th>\n",
       "    </tr>\n",
       "  </thead>\n",
       "  <tbody>\n",
       "    <tr>\n",
       "      <th>apartment</th>\n",
       "      <td>2462</td>\n",
       "      <td>2462</td>\n",
       "      <td>2462</td>\n",
       "      <td>2462</td>\n",
       "      <td>2462</td>\n",
       "      <td>2462</td>\n",
       "      <td>2462</td>\n",
       "      <td>2462</td>\n",
       "      <td>2462</td>\n",
       "      <td>2462</td>\n",
       "      <td>2462</td>\n",
       "      <td>2462</td>\n",
       "      <td>2462</td>\n",
       "      <td>2462</td>\n",
       "      <td>2462</td>\n",
       "      <td>2462</td>\n",
       "      <td>2462</td>\n",
       "      <td>2462</td>\n",
       "    </tr>\n",
       "    <tr>\n",
       "      <th>house</th>\n",
       "      <td>6082</td>\n",
       "      <td>6082</td>\n",
       "      <td>6082</td>\n",
       "      <td>6082</td>\n",
       "      <td>6082</td>\n",
       "      <td>6082</td>\n",
       "      <td>6082</td>\n",
       "      <td>6082</td>\n",
       "      <td>6082</td>\n",
       "      <td>6082</td>\n",
       "      <td>6082</td>\n",
       "      <td>6082</td>\n",
       "      <td>6082</td>\n",
       "      <td>6082</td>\n",
       "      <td>6082</td>\n",
       "      <td>6082</td>\n",
       "      <td>6082</td>\n",
       "      <td>6082</td>\n",
       "    </tr>\n",
       "  </tbody>\n",
       "</table>\n",
       "</div>"
      ],
      "text/plain": [
       "           locality  sub_type  price  type_of_sale  amount_of_rooms  area  \\\n",
       "type                                                                        \n",
       "apartment      2462      2462   2462          2462             2462  2462   \n",
       "house          6082      6082   6082          6082             6082  6082   \n",
       "\n",
       "           has_full_kitchen  is_furnished  has_open_fire  has_terrace  \\\n",
       "type                                                                    \n",
       "apartment              2462          2462           2462         2462   \n",
       "house                  6082          6082           6082         6082   \n",
       "\n",
       "           has_garden  garden_area  amount_of_facades  has_pool  \\\n",
       "type                                                              \n",
       "apartment        2462         2462               2462      2462   \n",
       "house            6082         6082               6082      6082   \n",
       "\n",
       "           building_state  land_area  postcode  region  \n",
       "type                                                    \n",
       "apartment            2462       2462      2462    2462  \n",
       "house                6082       6082      6082    6082  "
      ]
     },
     "execution_count": 53,
     "metadata": {},
     "output_type": "execute_result"
    }
   ],
   "source": [
    "df.groupby(\"type\").count()"
   ]
  },
  {
   "cell_type": "code",
   "execution_count": 6,
   "metadata": {},
   "outputs": [],
   "source": [
    "#CREATE X & Y\n",
    "\n",
    "features = [\n",
    " 'amount_of_rooms',\n",
    " 'area',\n",
    " 'has_full_kitchen',\n",
    " 'is_furnished',\n",
    " 'has_open_fire',\n",
    " 'has_terrace',\n",
    " 'has_garden',\n",
    " 'garden_area',\n",
    " 'amount_of_facades',\n",
    " 'has_pool',\n",
    " 'land_area',\n",
    " 'region']\n",
    "\n",
    "X = df[features]\n",
    "y = df['price']\n"
   ]
  },
  {
   "cell_type": "markdown",
   "metadata": {},
   "source": [
    "# MODEL EXPLORATION"
   ]
  },
  {
   "cell_type": "markdown",
   "metadata": {},
   "source": [
    "##### Basic"
   ]
  },
  {
   "cell_type": "code",
   "execution_count": 7,
   "metadata": {},
   "outputs": [
    {
     "data": {
      "text/plain": [
       "0.2798250544699237"
      ]
     },
     "execution_count": 7,
     "metadata": {},
     "output_type": "execute_result"
    }
   ],
   "source": [
    "from sklearn.model_selection import train_test_split\n",
    "from sklearn.linear_model import LinearRegression\n",
    "\n",
    "X_train, X_test, y_train, y_test = train_test_split(X, y, test_size=0.2)\n",
    "reg = LinearRegression()\n",
    "reg.fit(X_train, y_train)\n",
    "reg.score(X_test, y_test)"
   ]
  },
  {
   "cell_type": "code",
   "execution_count": 8,
   "metadata": {},
   "outputs": [
    {
     "data": {
      "text/plain": [
       "0.26927932322760206"
      ]
     },
     "execution_count": 8,
     "metadata": {},
     "output_type": "execute_result"
    }
   ],
   "source": [
    "from sklearn.kernel_ridge import KernelRidge\n",
    "krr = KernelRidge(alpha=1.0)\n",
    "krr.fit(X_train, y_train)\n",
    "krr.score(X_test,y_test)\n",
    "\n",
    "#Takes longer , similar results"
   ]
  },
  {
   "cell_type": "code",
   "execution_count": 9,
   "metadata": {},
   "outputs": [
    {
     "data": {
      "text/plain": [
       "0.2559651405584167"
      ]
     },
     "execution_count": 9,
     "metadata": {},
     "output_type": "execute_result"
    }
   ],
   "source": [
    "from sklearn.linear_model import ElasticNet\n",
    "net = ElasticNet()\n",
    "net.fit(X_train, y_train)\n",
    "net.score(X_test,y_test)\n",
    "\n",
    "#worse results"
   ]
  },
  {
   "cell_type": "code",
   "execution_count": 10,
   "metadata": {},
   "outputs": [
    {
     "data": {
      "text/plain": [
       "0.2530362918529486"
      ]
     },
     "execution_count": 10,
     "metadata": {},
     "output_type": "execute_result"
    }
   ],
   "source": [
    "from sklearn import linear_model\n",
    "clf = linear_model.BayesianRidge()\n",
    "clf.fit(X_train, y_train)\n",
    "clf.score(X_test, y_test)\n",
    "\n",
    "#similar results\n"
   ]
  },
  {
   "cell_type": "code",
   "execution_count": 11,
   "metadata": {},
   "outputs": [
    {
     "data": {
      "text/plain": [
       "0.5124447414833292"
      ]
     },
     "execution_count": 11,
     "metadata": {},
     "output_type": "execute_result"
    }
   ],
   "source": [
    "from sklearn.ensemble import GradientBoostingRegressor\n",
    "reg = GradientBoostingRegressor(n_estimators=200,max_depth=10)\n",
    "reg.fit(X_train, y_train)\n",
    "reg.score(X_test, y_test)\n",
    "\n",
    "#Best results\n"
   ]
  },
  {
   "cell_type": "code",
   "execution_count": 12,
   "metadata": {},
   "outputs": [
    {
     "data": {
      "text/plain": [
       "0.8107001166009091"
      ]
     },
     "execution_count": 12,
     "metadata": {},
     "output_type": "execute_result"
    }
   ],
   "source": [
    "from joblib import load\n",
    "reg = load(\"model/GBR.joblib\")\n",
    "\n",
    "reg.score(X_test,y_test)"
   ]
  },
  {
   "cell_type": "code",
   "execution_count": 46,
   "metadata": {},
   "outputs": [
    {
     "name": "stderr",
     "output_type": "stream",
     "text": [
      "f:\\Becode\\Repos\\challenge-deployment\\deploy-app\\lib\\site-packages\\sklearn\\base.py:450: UserWarning: X does not have valid feature names, but GradientBoostingRegressor was fitted with feature names\n",
      "  warnings.warn(\n"
     ]
    },
    {
     "data": {
      "text/plain": [
       "array([[11.0, 463.0, True, False, False, True, False, 0, 4.0, False,\n",
       "        9453.0, 46]], dtype=object)"
      ]
     },
     "execution_count": 46,
     "metadata": {},
     "output_type": "execute_result"
    }
   ],
   "source": [
    "#reg.predict(X_test.loc[0])\n",
    "x = X_test.iloc[0].values.reshape(1,-1)\n",
    "reg.predict(x)\n"
   ]
  },
  {
   "cell_type": "code",
   "execution_count": 55,
   "metadata": {},
   "outputs": [
    {
     "data": {
      "text/html": [
       "<div>\n",
       "<style scoped>\n",
       "    .dataframe tbody tr th:only-of-type {\n",
       "        vertical-align: middle;\n",
       "    }\n",
       "\n",
       "    .dataframe tbody tr th {\n",
       "        vertical-align: top;\n",
       "    }\n",
       "\n",
       "    .dataframe thead th {\n",
       "        text-align: right;\n",
       "    }\n",
       "</style>\n",
       "<table border=\"1\" class=\"dataframe\">\n",
       "  <thead>\n",
       "    <tr style=\"text-align: right;\">\n",
       "      <th></th>\n",
       "      <th>amount_of_rooms</th>\n",
       "      <th>area</th>\n",
       "      <th>has_full_kitchen</th>\n",
       "      <th>is_furnished</th>\n",
       "      <th>has_open_fire</th>\n",
       "      <th>has_terrace</th>\n",
       "      <th>has_garden</th>\n",
       "      <th>garden_area</th>\n",
       "      <th>amount_of_facades</th>\n",
       "      <th>has_pool</th>\n",
       "      <th>land_area</th>\n",
       "      <th>region</th>\n",
       "    </tr>\n",
       "  </thead>\n",
       "  <tbody>\n",
       "    <tr>\n",
       "      <th>5639</th>\n",
       "      <td>11.0</td>\n",
       "      <td>463.0</td>\n",
       "      <td>True</td>\n",
       "      <td>False</td>\n",
       "      <td>False</td>\n",
       "      <td>True</td>\n",
       "      <td>False</td>\n",
       "      <td>0</td>\n",
       "      <td>4.0</td>\n",
       "      <td>False</td>\n",
       "      <td>9453.0</td>\n",
       "      <td>46</td>\n",
       "    </tr>\n",
       "  </tbody>\n",
       "</table>\n",
       "</div>"
      ],
      "text/plain": [
       "     amount_of_rooms   area has_full_kitchen is_furnished has_open_fire  \\\n",
       "5639            11.0  463.0             True        False         False   \n",
       "\n",
       "     has_terrace has_garden garden_area amount_of_facades has_pool land_area  \\\n",
       "5639        True      False           0               4.0    False    9453.0   \n",
       "\n",
       "     region  \n",
       "5639     46  "
      ]
     },
     "execution_count": 55,
     "metadata": {},
     "output_type": "execute_result"
    }
   ],
   "source": [
    "p = X_test.iloc[0]\n",
    "x = pd.DataFrame(p)\n",
    "x = x.transpose()\n",
    "x\n",
    "#reg.predict(x)"
   ]
  },
  {
   "cell_type": "code",
   "execution_count": 13,
   "metadata": {},
   "outputs": [
    {
     "data": {
      "text/plain": [
       "-0.06250092226969173"
      ]
     },
     "execution_count": 13,
     "metadata": {},
     "output_type": "execute_result"
    }
   ],
   "source": [
    "from sklearn.svm import SVR\n",
    "from sklearn.pipeline import make_pipeline\n",
    "from sklearn.preprocessing import StandardScaler\n",
    "\n",
    "regr = make_pipeline(StandardScaler(), SVR(C=1.0, epsilon=0.2))\n",
    "regr.fit(X_train, y_train)\n",
    "\n",
    "regr.score(X_test,y_test)\n",
    "\n",
    "#takes longer , worse results"
   ]
  }
 ],
 "metadata": {
  "interpreter": {
   "hash": "724137efa42c0ea3176e3ab3377f0ca2d8a6873cf25ec92a6d832b9a970c9d91"
  },
  "kernelspec": {
   "display_name": "Python 3.10.2 ('deploy-app': venv)",
   "language": "python",
   "name": "python3"
  },
  "language_info": {
   "codemirror_mode": {
    "name": "ipython",
    "version": 3
   },
   "file_extension": ".py",
   "mimetype": "text/x-python",
   "name": "python",
   "nbconvert_exporter": "python",
   "pygments_lexer": "ipython3",
   "version": "3.10.2"
  },
  "orig_nbformat": 4
 },
 "nbformat": 4,
 "nbformat_minor": 2
}
